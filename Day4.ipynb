{
 "cells": [
  {
   "attachments": {},
   "cell_type": "markdown",
   "metadata": {},
   "source": [
    "# Day 4\n",
    "\n",
    "Range handling. Part 1 looks for ranges that are completely contained by the other."
   ]
  },
  {
   "cell_type": "code",
   "execution_count": 42,
   "metadata": {},
   "outputs": [],
   "source": [
    "import pandas as pd\n",
    "import unittest\n",
    "\n",
    "def inc_range(s: int, e: int):\n",
    "  return range(s, e+1)\n",
    "\n",
    "def read(file: str):\n",
    "  return pd.read_csv(file, header=None, names=['elf1', 'elf2'])\n",
    "\n",
    "def stats(file: str):\n",
    "  df = read(file)\n",
    "  df['r1'] = df.elf1.apply(lambda x: inc_range(*[int(x) for x in x.split('-')]))\n",
    "  df['r2'] = df.elf2.apply(lambda x: inc_range(*[int(x) for x in x.split('-')]))\n",
    "  df['overlap'] = df.apply(lambda x: set(x.r1).intersection(set(x.r2)), axis=1)\n",
    "  df['ol_size'] = df.overlap.apply(lambda x: len(x))\n",
    "  df['is_full'] = df.apply(lambda x: x.ol_size == len(x.r1) or x.ol_size == len(x.r2) , axis=1)\n",
    "  return df\n",
    "\n",
    "def part1(file: str):\n",
    "  df = stats(file)\n",
    "  return len(df[df.is_full])\n",
    "\n",
    "def part2(file: str):\n",
    "  df = stats(file)\n",
    "  return len(df[df['ol_size'] > 0])\n",
    "\n",
    "test = unittest.TestCase()\n",
    "test.longMessage = True\n",
    "test.assertEqual(part1('sample/day4.txt'), 2, '2 fully overlapping ranges')\n",
    "test.assertEqual(part2('sample/day4.txt'), 4, '4 partially overlapping ranges')\n"
   ]
  },
  {
   "attachments": {},
   "cell_type": "markdown",
   "metadata": {},
   "source": [
    "# Day 4 Answers"
   ]
  },
  {
   "cell_type": "code",
   "execution_count": 23,
   "metadata": {},
   "outputs": [
    {
     "data": {
      "text/plain": [
       "538"
      ]
     },
     "execution_count": 23,
     "metadata": {},
     "output_type": "execute_result"
    }
   ],
   "source": [
    "part1('data/day4.txt')"
   ]
  },
  {
   "cell_type": "code",
   "execution_count": 43,
   "metadata": {},
   "outputs": [
    {
     "data": {
      "text/plain": [
       "792"
      ]
     },
     "execution_count": 43,
     "metadata": {},
     "output_type": "execute_result"
    }
   ],
   "source": [
    "part2('data/day4.txt')"
   ]
  }
 ],
 "metadata": {
  "kernelspec": {
   "display_name": "Python 3",
   "language": "python",
   "name": "python3"
  },
  "language_info": {
   "codemirror_mode": {
    "name": "ipython",
    "version": 3
   },
   "file_extension": ".py",
   "mimetype": "text/x-python",
   "name": "python",
   "nbconvert_exporter": "python",
   "pygments_lexer": "ipython3",
   "version": "3.11.2"
  },
  "orig_nbformat": 4,
  "vscode": {
   "interpreter": {
    "hash": "7c2fce6ad86c97da6c942cbd94643c7c074ab18d3754cca7958c8c8cf34b3046"
   }
  }
 },
 "nbformat": 4,
 "nbformat_minor": 2
}
