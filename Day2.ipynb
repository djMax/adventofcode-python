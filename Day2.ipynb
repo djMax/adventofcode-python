{
 "cells": [
  {
   "attachments": {},
   "cell_type": "markdown",
   "metadata": {},
   "source": [
    "# Day 2\n",
    "\n",
    "Rock Paper Scissors FTW"
   ]
  },
  {
   "cell_type": "code",
   "execution_count": 34,
   "metadata": {},
   "outputs": [],
   "source": [
    "import pandas as pd\n",
    "from enum import Enum\n",
    "\n",
    "Choice = Enum('Choice', ['Rock', 'Paper', 'Scissors'])\n",
    "\n",
    "TheirChoice = { \"A\": Choice.Rock, \"B\": Choice.Paper, \"C\": Choice.Scissors }\n",
    "MyChoice = { \"X\": Choice.Rock, \"Y\": Choice.Paper, \"Z\": Choice.Scissors }\n",
    "ChoiceValue = { Choice.Rock: 1, Choice.Paper: 2, Choice.Scissors: 3 }\n",
    "Instruction = { \"X\": 0, \"Y\": 3, \"Z\": 6 }\n"
   ]
  },
  {
   "attachments": {},
   "cell_type": "markdown",
   "metadata": {},
   "source": [
    "First, let's write a function to score a round."
   ]
  },
  {
   "cell_type": "code",
   "execution_count": 35,
   "metadata": {},
   "outputs": [],
   "source": [
    "def winScore(them: str, me: Choice):\n",
    "    themValue = TheirChoice[them]\n",
    "\n",
    "    if me == themValue:\n",
    "      return 3\n",
    "\n",
    "    match me:\n",
    "      case Choice.Rock:\n",
    "        return 6 if themValue == Choice.Scissors else 0\n",
    "      case Choice.Paper:\n",
    "        return 6 if themValue == Choice.Rock else 0\n",
    "      case Choice.Scissors:\n",
    "        return 6 if themValue == Choice.Paper else 0\n",
    "\n",
    "assert winScore(\"A\", Choice.Rock) == 3, \"Draw is 3\"\n",
    "assert winScore(\"A\", Choice.Paper) == 6, \"Paper covers rock for 6\"\n",
    "assert winScore(\"A\", Choice.Scissors) == 0, \"Rock crushes scissors for 0\"\n",
    "\n",
    "def roundScore(them: str, me: Choice):\n",
    "  return winScore(them, me) + ChoiceValue[me]\n",
    "\n",
    "assert roundScore(\"A\", Choice.Paper) == 8, \"Total score is 6 for win, 2 for paper\"\n",
    "assert roundScore(\"B\", Choice.Rock) == 1, \"Total score is 0 for loss, 1 for rock\""
   ]
  },
  {
   "cell_type": "code",
   "execution_count": 36,
   "metadata": {},
   "outputs": [],
   "source": [
    "def read(file: str):\n",
    "  return pd.read_csv(file, header=None, delimiter=\" \", names=[\"Them\", \"Me\"])\n",
    "\n",
    "def runRound(file: str):\n",
    "  return read(file).apply(lambda row: roundScore(row.Them, MyChoice[row.Me]), axis=1).sum()"
   ]
  },
  {
   "cell_type": "code",
   "execution_count": 37,
   "metadata": {},
   "outputs": [],
   "source": [
    "assert runRound('sample/day2.txt') == 15, \"Sample round score is 15\""
   ]
  },
  {
   "attachments": {},
   "cell_type": "markdown",
   "metadata": {},
   "source": [
    "For part 2, the choice indicates the target outcome of the round, so we need some functions for that"
   ]
  },
  {
   "cell_type": "code",
   "execution_count": 38,
   "metadata": {},
   "outputs": [],
   "source": [
    "def getChoice(them: str, me: str):\n",
    "    targetScore = Instruction[me]\n",
    "    if targetScore == 3:\n",
    "        return TheirChoice[them]\n",
    "    match TheirChoice[them]:\n",
    "        case Choice.Rock:\n",
    "            return Choice.Paper if targetScore == 6 else Choice.Scissors\n",
    "        case Choice.Paper:\n",
    "            return Choice.Scissors if targetScore == 6 else Choice.Rock\n",
    "        case Choice.Scissors:\n",
    "            return Choice.Rock if targetScore == 6 else Choice.Paper\n",
    "\n",
    "assert getChoice(\"A\", \"Y\") == Choice.Rock, \"Tie should pick same\"\n",
    "assert getChoice(\"B\", \"X\") == Choice.Rock, \"Loss should pick rock\"\n",
    "assert getChoice(\"C\", \"Z\") == Choice.Rock, \"Win should pick rock\"\n",
    "\n",
    "def runPart2Round(file: str):\n",
    "  return read(file).apply(lambda row: roundScore(row.Them, getChoice(row.Them, row.Me)), axis=1).sum()\n",
    "\n",
    "assert runPart2Round('sample/day2.txt') == 12, \"Sample round score is 12\"\n"
   ]
  },
  {
   "attachments": {},
   "cell_type": "markdown",
   "metadata": {},
   "source": [
    "# Day 2 Answers"
   ]
  },
  {
   "cell_type": "code",
   "execution_count": 39,
   "metadata": {},
   "outputs": [
    {
     "data": {
      "text/plain": [
       "11666"
      ]
     },
     "execution_count": 39,
     "metadata": {},
     "output_type": "execute_result"
    }
   ],
   "source": [
    "runRound('data/day2.txt')"
   ]
  },
  {
   "cell_type": "code",
   "execution_count": 40,
   "metadata": {},
   "outputs": [
    {
     "data": {
      "text/plain": [
       "12767"
      ]
     },
     "execution_count": 40,
     "metadata": {},
     "output_type": "execute_result"
    }
   ],
   "source": [
    "runPart2Round('data/day2.txt')"
   ]
  },
  {
   "cell_type": "code",
   "execution_count": null,
   "metadata": {},
   "outputs": [],
   "source": []
  }
 ],
 "metadata": {
  "kernelspec": {
   "display_name": "Python 3",
   "language": "python",
   "name": "python3"
  },
  "language_info": {
   "codemirror_mode": {
    "name": "ipython",
    "version": 3
   },
   "file_extension": ".py",
   "mimetype": "text/x-python",
   "name": "python",
   "nbconvert_exporter": "python",
   "pygments_lexer": "ipython3",
   "version": "3.11.2"
  },
  "orig_nbformat": 4,
  "vscode": {
   "interpreter": {
    "hash": "7c2fce6ad86c97da6c942cbd94643c7c074ab18d3754cca7958c8c8cf34b3046"
   }
  }
 },
 "nbformat": 4,
 "nbformat_minor": 2
}
