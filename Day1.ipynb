{
 "cells": [
  {
   "attachments": {},
   "cell_type": "markdown",
   "metadata": {},
   "source": [
    "# Day 1\n",
    "\n",
    "Sum a list of values broken up by new lines. We use pandas to read it as a single-column csv, separate by blank lines using a groupby I don't yet totally understand, and then return the max value."
   ]
  },
  {
   "cell_type": "code",
   "execution_count": 44,
   "metadata": {},
   "outputs": [],
   "source": [
    "import pandas as pd"
   ]
  },
  {
   "cell_type": "code",
   "execution_count": 55,
   "metadata": {},
   "outputs": [],
   "source": [
    "def getSums(file: str):\n",
    "    data = pd.read_csv(file, header=None, skip_blank_lines=False)\n",
    "    groupMarker = data[0].isna()\n",
    "    return data[~groupMarker].groupby(groupMarker.cumsum())[0].apply(sum)\n",
    "\n",
    "def part1(file: str):    \n",
    "    return getSums(file).max()\n",
    "\n",
    "def part2(file: str):\n",
    "    return getSums(file).nlargest(3).sum()"
   ]
  },
  {
   "cell_type": "code",
   "execution_count": 56,
   "metadata": {},
   "outputs": [],
   "source": [
    "assert part1('sample/day1.txt') == 24000, \"Expected sample result to be 24,000\"\n",
    "assert part2('sample/day1.txt') == 45000, \"Expected part 2 sample result to be 45,000\""
   ]
  },
  {
   "attachments": {},
   "cell_type": "markdown",
   "metadata": {},
   "source": [
    "# Day 1 Answers"
   ]
  },
  {
   "cell_type": "code",
   "execution_count": 57,
   "metadata": {},
   "outputs": [
    {
     "data": {
      "text/plain": [
       "72240.0"
      ]
     },
     "execution_count": 57,
     "metadata": {},
     "output_type": "execute_result"
    }
   ],
   "source": [
    "part1('data/day1.txt')"
   ]
  },
  {
   "cell_type": "code",
   "execution_count": 58,
   "metadata": {},
   "outputs": [
    {
     "data": {
      "text/plain": [
       "210957.0"
      ]
     },
     "execution_count": 58,
     "metadata": {},
     "output_type": "execute_result"
    }
   ],
   "source": [
    "part2('data/day1.txt')"
   ]
  },
  {
   "cell_type": "code",
   "execution_count": null,
   "metadata": {},
   "outputs": [],
   "source": []
  }
 ],
 "metadata": {
  "kernelspec": {
   "display_name": "Python 3",
   "language": "python",
   "name": "python3"
  },
  "language_info": {
   "codemirror_mode": {
    "name": "ipython",
    "version": 3
   },
   "file_extension": ".py",
   "mimetype": "text/x-python",
   "name": "python",
   "nbconvert_exporter": "python",
   "pygments_lexer": "ipython3",
   "version": "3.11.2"
  },
  "orig_nbformat": 4,
  "vscode": {
   "interpreter": {
    "hash": "7c2fce6ad86c97da6c942cbd94643c7c074ab18d3754cca7958c8c8cf34b3046"
   }
  }
 },
 "nbformat": 4,
 "nbformat_minor": 2
}
