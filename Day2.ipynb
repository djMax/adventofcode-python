{
 "cells": [
  {
   "attachments": {},
   "cell_type": "markdown",
   "metadata": {},
   "source": [
    "# Day 2\n",
    "\n",
    "Rock Paper Scissors FTW"
   ]
  },
  {
   "cell_type": "code",
   "execution_count": 1,
   "metadata": {},
   "outputs": [],
   "source": [
    "from enum import Enum\n",
    "\n",
    "Choice = Enum('Choice', ['Rock', 'Paper', 'Scissors'])\n",
    "\n",
    "TheirChoice = { \"A\": Choice.Rock, \"B\": Choice.Paper, \"C\": Choice.Scissors }\n",
    "MyChoice = { \"X\": Choice.Rock, \"Y\": Choice.Paper, \"Z\": Choice.Scissors }\n",
    "ChoiceValue = { Choice.Rock: 1, Choice.Paper: 2, Choice.Scissors: 3 }\n"
   ]
  },
  {
   "cell_type": "code",
   "execution_count": null,
   "metadata": {},
   "outputs": [],
   "source": [
    "def winScore(them: str, me: str):\n",
    "    themValue = TheirChoice[them]\n",
    "    meValue = MyChoice[me]\n",
    "\n",
    "    if meValue == themValue:\n",
    "      return 3\n",
    "\n",
    "    match meValue:\n",
    "      case Choice.Rock:\n",
    "        return 6 if themValue == Choice.Scissors else 0\n",
    "      case Choice.Paper:\n",
    "        return 3 if themValue == Choice.Rock else 0"
   ]
  }
 ],
 "metadata": {
  "kernelspec": {
   "display_name": "Python 3",
   "language": "python",
   "name": "python3"
  },
  "language_info": {
   "codemirror_mode": {
    "name": "ipython",
    "version": 3
   },
   "file_extension": ".py",
   "mimetype": "text/x-python",
   "name": "python",
   "nbconvert_exporter": "python",
   "pygments_lexer": "ipython3",
   "version": "3.11.2"
  },
  "orig_nbformat": 4,
  "vscode": {
   "interpreter": {
    "hash": "7c2fce6ad86c97da6c942cbd94643c7c074ab18d3754cca7958c8c8cf34b3046"
   }
  }
 },
 "nbformat": 4,
 "nbformat_minor": 2
}
