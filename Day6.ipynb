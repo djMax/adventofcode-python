{
 "cells": [
  {
   "attachments": {},
   "cell_type": "markdown",
   "metadata": {},
   "source": [
    "# Day 6\n",
    "\n",
    "Find first window of 4 characters (14 in part 2) in a string that are all unique, report that offset."
   ]
  },
  {
   "cell_type": "code",
   "execution_count": 81,
   "metadata": {},
   "outputs": [],
   "source": [
    "import pandas as pd\n",
    "import numpy as np\n",
    "\n",
    "test = pd.read_csv('sample/day6.txt', header=None, names=['value'])\n",
    "\n",
    "def findUnique(s: str, n: int):\n",
    "  df = pd.DataFrame(map(ord, list(s))).rolling(window=n, min_periods=n).apply(lambda x: len(x.unique()), raw=False)\n",
    "  return df[df[0] == float(n)].index[0] + 1\n",
    "\n",
    "def part1(s: str):\n",
    "  return findUnique(s, 4)\n",
    "\n",
    "def part2(s: str):\n",
    "  return findUnique(s, 14)\n",
    "\n",
    "assert (test.value.apply(part1) == np.array([7, 5, 6, 10, 11])).all(), 'Part 1 should match example'\n",
    "assert (test.value.apply(part2) == np.array([19, 23, 23, 29, 26])).all(), 'Part 2 should match example'"
   ]
  },
  {
   "attachments": {},
   "cell_type": "markdown",
   "metadata": {},
   "source": [
    "# Day 6 Answers"
   ]
  },
  {
   "cell_type": "code",
   "execution_count": 82,
   "metadata": {},
   "outputs": [
    {
     "name": "stdout",
     "output_type": "stream",
     "text": [
      "Part 1 1142\n"
     ]
    }
   ],
   "source": [
    "with open('data/day6.txt') as f:\n",
    "  print(\"Part 1\", part1(f.read()))  "
   ]
  },
  {
   "cell_type": "code",
   "execution_count": 83,
   "metadata": {},
   "outputs": [
    {
     "name": "stdout",
     "output_type": "stream",
     "text": [
      "Part 2 2803\n"
     ]
    }
   ],
   "source": [
    "with open('data/day6.txt') as f:\n",
    "  print(\"Part 2\", part2(f.read()))  "
   ]
  }
 ],
 "metadata": {
  "kernelspec": {
   "display_name": "Python 3",
   "language": "python",
   "name": "python3"
  },
  "language_info": {
   "codemirror_mode": {
    "name": "ipython",
    "version": 3
   },
   "file_extension": ".py",
   "mimetype": "text/x-python",
   "name": "python",
   "nbconvert_exporter": "python",
   "pygments_lexer": "ipython3",
   "version": "3.11.2"
  },
  "orig_nbformat": 4,
  "vscode": {
   "interpreter": {
    "hash": "7c2fce6ad86c97da6c942cbd94643c7c074ab18d3754cca7958c8c8cf34b3046"
   }
  }
 },
 "nbformat": 4,
 "nbformat_minor": 2
}
