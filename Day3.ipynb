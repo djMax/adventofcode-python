{
 "cells": [
  {
   "attachments": {},
   "cell_type": "markdown",
   "metadata": {},
   "source": [
    "# Day 3\n",
    "\n",
    "String splitting and uniqueness. Part 1 takes each string, divides it in half and finds the common item. Then we score the common items and sum them.\n",
    "\n",
    "Part 2 takes groups of three and finds the common item, then scores and sums them."
   ]
  },
  {
   "cell_type": "code",
   "execution_count": 69,
   "metadata": {},
   "outputs": [
    {
     "data": {
      "text/plain": [
       "70"
      ]
     },
     "execution_count": 69,
     "metadata": {},
     "output_type": "execute_result"
    }
   ],
   "source": [
    "import pandas as pd\n",
    "\n",
    "def split(v: str):\n",
    "  return pd.Series([v[:len(v)//2], v[len(v)//2:]])\n",
    "\n",
    "def read(file: str):\n",
    "  return pd.read_csv(file, header=None, names=['pair'])\n",
    "\n",
    "def commonItems(file: str):\n",
    "  items = read(file)\n",
    "  items['first'] = items.pair.apply(lambda x: x[:len(x)//2])\n",
    "  items['second'] = items.pair.apply(lambda x: x[len(x)//2:])\n",
    "  items['common'] = items.apply(lambda x: next(iter(set(x['first']) & set(x['second']))), axis=1)\n",
    "  items['score'] = items.common.apply(lambda x: ord(x) - 65 + 27 if x.isupper() else ord(x) - 97 + 1)\n",
    "  return items\n",
    "\n",
    "def part1(file: str):\n",
    "  return commonItems(file).score.sum()\n",
    "\n",
    "assert part1('sample/day3.txt') == 157, \"Sum of common items should be 157\"\n",
    "\n",
    "def partitionedCommonItem(file: str):\n",
    "  df = commonItems(file).pair\n",
    "  df = [next(iter(set(df[i]) & set(df[i + 1]) & set(df[i + 2]))) for i in range(0,len(df)-3+1,3)]\n",
    "  return sum(map(lambda x: ord(x) - 65 + 27 if x.isupper() else ord(x) - 97 + 1, df))\n",
    "\n",
    "assert partitionedCommonItem('sample/day3.txt') == 70, \"Sum of common items should be 70\""
   ]
  },
  {
   "attachments": {},
   "cell_type": "markdown",
   "metadata": {},
   "source": [
    "# Day 3 Answers"
   ]
  },
  {
   "cell_type": "code",
   "execution_count": 42,
   "metadata": {},
   "outputs": [
    {
     "data": {
      "text/plain": [
       "8243"
      ]
     },
     "execution_count": 42,
     "metadata": {},
     "output_type": "execute_result"
    }
   ],
   "source": [
    "part1('data/day3.txt')"
   ]
  },
  {
   "cell_type": "code",
   "execution_count": 70,
   "metadata": {},
   "outputs": [
    {
     "data": {
      "text/plain": [
       "2631"
      ]
     },
     "execution_count": 70,
     "metadata": {},
     "output_type": "execute_result"
    }
   ],
   "source": [
    "partitionedCommonItem('data/day3.txt')"
   ]
  }
 ],
 "metadata": {
  "kernelspec": {
   "display_name": "Python 3",
   "language": "python",
   "name": "python3"
  },
  "language_info": {
   "name": "python",
   "version": "3.11.2"
  },
  "orig_nbformat": 4,
  "vscode": {
   "interpreter": {
    "hash": "7c2fce6ad86c97da6c942cbd94643c7c074ab18d3754cca7958c8c8cf34b3046"
   }
  }
 },
 "nbformat": 4,
 "nbformat_minor": 2
}
