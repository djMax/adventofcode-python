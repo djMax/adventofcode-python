{
 "cells": [
  {
   "attachments": {},
   "cell_type": "markdown",
   "metadata": {},
   "source": [
    "# Day 5\n",
    "\n",
    "More complex file parsing and a Tower of Hanoi style movement puzzle. First part moves one item at a time, second part moves all requested items at once. Parsing the input is the longest part here, I'd love to see a more pythonic solution."
   ]
  },
  {
   "cell_type": "code",
   "execution_count": 65,
   "metadata": {},
   "outputs": [],
   "source": [
    "import numpy as np\n",
    "import pandas as pd\n",
    "from dataclasses import dataclass\n",
    "\n",
    "@dataclass\n",
    "class Move:\n",
    "    count: int\n",
    "    source: int\n",
    "    dest: int\n",
    "\n",
    "def read(file: str):\n",
    "  moves = []\n",
    "  stacks = dict()\n",
    "  with open(file) as f:    \n",
    "      readingMoves = False\n",
    "      lines = f.read().splitlines()\n",
    "      for line in lines:\n",
    "          if line == '':\n",
    "              readingMoves = True\n",
    "          elif readingMoves:\n",
    "              move = line.split(' ')\n",
    "              moves.append(Move(int(move[1]), int(move[3]), int(move[5])))\n",
    "          elif line[0:2] == ' 1':\n",
    "              continue\n",
    "          else:\n",
    "              filled = [line[i+1] for i in range(0,len(line),4)]\n",
    "              for idx, block in enumerate(filled):\n",
    "                  if block != ' ':\n",
    "                      stacks.setdefault(idx + 1, []).insert(0, block)\n",
    "  return moves, dict(sorted(stacks.items()))\n",
    "\n",
    "def move(move: Move, stacks: dict):\n",
    "    [stacks[move.dest].append(stacks[move.source].pop()) for i in range(move.count)]\n",
    "\n",
    "def part1(file: str):\n",
    "    moves, stacks = read(file)\n",
    "    [move(m, stacks) for m in moves]\n",
    "    return \"\".join(list(map(lambda x: x.pop(), stacks.values())))\n",
    "\n",
    "def moveAll(move: Move, stacks: dict):\n",
    "    popped = stacks[move.source][-move.count:]\n",
    "    stacks[move.source] = stacks[move.source][:-move.count]\n",
    "    stacks[move.dest] += popped\n",
    "\n",
    "def part2(file: str):\n",
    "    moves, stacks = read(file)\n",
    "    [moveAll(m, stacks) for m in moves]\n",
    "    return \"\".join(list(map(lambda x: x.pop() if len(x) > 0 else \"\", stacks.values())))\n",
    "\n",
    "assert part1('sample/day5.txt') == 'CMZ', 'Sample should end up CMZ'\n",
    "assert part2('sample/day5.txt') == 'MCD', 'Sample should end up MCD'"
   ]
  },
  {
   "cell_type": "code",
   "execution_count": 66,
   "metadata": {},
   "outputs": [
    {
     "data": {
      "text/plain": [
       "'WSFTMRHPP'"
      ]
     },
     "execution_count": 66,
     "metadata": {},
     "output_type": "execute_result"
    }
   ],
   "source": [
    "part1('data/day5.txt')"
   ]
  },
  {
   "cell_type": "code",
   "execution_count": 67,
   "metadata": {},
   "outputs": [
    {
     "data": {
      "text/plain": [
       "'GSLCMFBRP'"
      ]
     },
     "execution_count": 67,
     "metadata": {},
     "output_type": "execute_result"
    }
   ],
   "source": [
    "part2('data/day5.txt')"
   ]
  }
 ],
 "metadata": {
  "kernelspec": {
   "display_name": "Python 3",
   "language": "python",
   "name": "python3"
  },
  "language_info": {
   "codemirror_mode": {
    "name": "ipython",
    "version": 3
   },
   "file_extension": ".py",
   "mimetype": "text/x-python",
   "name": "python",
   "nbconvert_exporter": "python",
   "pygments_lexer": "ipython3",
   "version": "3.11.2"
  },
  "orig_nbformat": 4,
  "vscode": {
   "interpreter": {
    "hash": "7c2fce6ad86c97da6c942cbd94643c7c074ab18d3754cca7958c8c8cf34b3046"
   }
  }
 },
 "nbformat": 4,
 "nbformat_minor": 2
}
